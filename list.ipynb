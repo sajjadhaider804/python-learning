{
 "cells": [
  {
   "cell_type": "code",
   "execution_count": 2,
   "metadata": {},
   "outputs": [
    {
     "name": "stdout",
     "output_type": "stream",
     "text": [
      "I have Honda Bike for travelling.\n",
      "I want to buy a Kawasaki.\n",
      "Suzuki is rarely seen in pakistan now a days.\n",
      "Yamaha is a classic.\n"
     ]
    }
   ],
   "source": [
    "favorite_transport = [\"Honda\",\"Kawasaki\",\"Suzuki\",\"Yamaha\"]\n",
    "print(f\"I have {favorite_transport[0]} Bike for travelling.\")\n",
    "print(f\"I want to buy a {favorite_transport[1]}.\")\n",
    "print(f\"{favorite_transport[2]} is rarely seen in pakistan now a days.\")\n",
    "print(f\"{favorite_transport[3]} is a classic.\")\n"
   ]
  },
  {
   "cell_type": "code",
   "execution_count": 12,
   "metadata": {},
   "outputs": [
    {
     "name": "stdout",
     "output_type": "stream",
     "text": [
      "Shakespear,you are cordially invited for dinner at my home\n",
      "Henrik Ibsen,it would be honour to have you at dinner\n",
      "Muhammad Ali,May you please come to my home for delicious dinner\n"
     ]
    }
   ],
   "source": [
    "Guests = [\"Shakespear\",\"Henrik Ibsen\",\"Muhammad Ali\"]\n",
    "print(f\"{Guests[0]},you are cordially invited for dinner at my home\")\n",
    "print(f\"{Guests[1]},it would be honour to have you at dinner\")\n",
    "print(f\"{Guests[2]},May you please come to my home for delicious dinner\")"
   ]
  },
  {
   "cell_type": "code",
   "execution_count": 14,
   "metadata": {},
   "outputs": [
    {
     "name": "stdout",
     "output_type": "stream",
     "text": [
      "unfortunately,Henrik Ibsen cannot come due to an urgent piece of work\n"
     ]
    }
   ],
   "source": [
    "Guests = [\"Shakespear\",\"Henrik Ibsen\",\"Muhammad Ali\"]\n",
    "print(f\"unfortunately,{Guests[1]} cannot come due to an urgent piece of work\")"
   ]
  },
  {
   "cell_type": "code",
   "execution_count": 15,
   "metadata": {},
   "outputs": [],
   "source": [
    "Guests[1]= \"Lawrence\""
   ]
  },
  {
   "cell_type": "code",
   "execution_count": 18,
   "metadata": {},
   "outputs": [
    {
     "name": "stdout",
     "output_type": "stream",
     "text": [
      "Lawrence\n"
     ]
    }
   ],
   "source": [
    "print(Guests[1])"
   ]
  },
  {
   "cell_type": "code",
   "execution_count": 19,
   "metadata": {},
   "outputs": [
    {
     "name": "stdout",
     "output_type": "stream",
     "text": [
      "Shakespear,you are cordially invited for dinner at my home\n",
      "Lawrence,it would be honour to have you at dinner\n",
      "Muhammad Ali,May you please come to my home for delicious dinner\n"
     ]
    }
   ],
   "source": [
    "print(f\"{Guests[0]},you are cordially invited for dinner at my home\")\n",
    "print(f\"{Guests[1]},it would be honour to have you at dinner\")\n",
    "print(f\"{Guests[2]},May you please come to my home for delicious dinner\")\n"
   ]
  },
  {
   "cell_type": "code",
   "execution_count": 20,
   "metadata": {},
   "outputs": [],
   "source": [
    "Guests.insert(0,\"Iqbal\")\n",
    "Guests.insert(2,\"Newton\")\n",
    "Guests.append(\"Imran Khan\")"
   ]
  },
  {
   "cell_type": "code",
   "execution_count": 21,
   "metadata": {},
   "outputs": [
    {
     "name": "stdout",
     "output_type": "stream",
     "text": [
      "['Iqbal', 'Shakespear', 'Newton', 'Lawrence', 'Muhammad Ali', 'Imran Khan']\n"
     ]
    }
   ],
   "source": [
    "print(Guests)"
   ]
  },
  {
   "cell_type": "code",
   "execution_count": 22,
   "metadata": {},
   "outputs": [
    {
     "name": "stdout",
     "output_type": "stream",
     "text": [
      "Iqbal,you are cordially invited for dinner at my home\n",
      "Shakespear,it would be honour to have you at dinner\n",
      "Newton,May you please come to my home for delicious dinner\n",
      "Lawrence,I would like to invite you to dinner\n",
      "Muhammad Ali,I would like to invite you to dinner\n",
      "Imran Khan,I would like to invite you to dinner\n"
     ]
    }
   ],
   "source": [
    "print(f\"{Guests[0]},you are cordially invited for dinner at my home\")\n",
    "print(f\"{Guests[1]},it would be honour to have you at dinner\")\n",
    "print(f\"{Guests[2]},May you please come to my home for delicious dinner\")\n",
    "print(f\"{Guests[3]},I would like to invite you to dinner\")\n",
    "print(f\"{Guests[4]},I would like to invite you to dinner\")\n",
    "print(f\"{Guests[5]},I would like to invite you to dinner\")"
   ]
  },
  {
   "cell_type": "code",
   "execution_count": 23,
   "metadata": {},
   "outputs": [
    {
     "name": "stdout",
     "output_type": "stream",
     "text": [
      "['Iqbal', 'Shakespear', 'Newton', 'Lawrence', 'Muhammad Ali', 'Imran Khan']\n"
     ]
    }
   ],
   "source": [
    "print(Guests)"
   ]
  },
  {
   "cell_type": "code",
   "execution_count": 24,
   "metadata": {},
   "outputs": [
    {
     "name": "stdout",
     "output_type": "stream",
     "text": [
      "Sorry, I am running short of money so i can invite only two people\n"
     ]
    }
   ],
   "source": [
    "print(\"Sorry, I am running short of money so i can invite only two people\")"
   ]
  },
  {
   "cell_type": "code",
   "execution_count": 28,
   "metadata": {},
   "outputs": [
    {
     "data": {
      "text/plain": [
       "'Iqbal'"
      ]
     },
     "execution_count": 28,
     "metadata": {},
     "output_type": "execute_result"
    }
   ],
   "source": [
    "Guests.pop(0)"
   ]
  },
  {
   "cell_type": "code",
   "execution_count": null,
   "metadata": {},
   "outputs": [],
   "source": [
    "print(f\"{Guests[1]} Sorry I cannot invite you\")"
   ]
  }
 ],
 "metadata": {
  "kernelspec": {
   "display_name": "Python 3",
   "language": "python",
   "name": "python3"
  },
  "language_info": {
   "codemirror_mode": {
    "name": "ipython",
    "version": 3
   },
   "file_extension": ".py",
   "mimetype": "text/x-python",
   "name": "python",
   "nbconvert_exporter": "python",
   "pygments_lexer": "ipython3",
   "version": "3.12.4"
  }
 },
 "nbformat": 4,
 "nbformat_minor": 2
}
